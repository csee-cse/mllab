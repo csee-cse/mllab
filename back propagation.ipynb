{
 "cells": [
  {
   "cell_type": "code",
   "execution_count": 37,
   "id": "dd0fed2b-0181-4535-be45-2e1983f2fc07",
   "metadata": {},
   "outputs": [
    {
     "name": "stdout",
     "output_type": "stream",
     "text": [
      "Epoch 0,Loss:0.49942987220474977\n",
      "Epoch 1000,Loss:0.10792906515070175\n",
      "Epoch 2000,Loss:0.04869157207580391\n",
      "Epoch 3000,Loss:0.03522626233843971\n",
      "Epoch 4000,Loss:0.028754713224650248\n",
      "Epoch 5000,Loss:0.02481007010039928\n",
      "Epoch 6000,Loss:0.02209835440565026\n",
      "Epoch 7000,Loss:0.020092837234485704\n",
      "Epoch 8000,Loss:0.018534777188796134\n",
      "Epoch 9000,Loss:0.017280695420093944\n",
      "final predictions:\n",
      "[[0.01530668]\n",
      " [0.98760023]\n",
      " [0.98093155]\n",
      " [0.01820469]]\n"
     ]
    }
   ],
   "source": [
    "import numpy as np\n",
    "#activation function and its derivative\n",
    "def sigmoid(x):\n",
    "    return 1/(1+np.exp(-x))\n",
    "def sigmoid_derivative(x):\n",
    "    return x*(1-x)\n",
    "#training data (xor problem)\n",
    "X=np.array([[0,0],[0,1],[1,0],[1,1]])\n",
    "y=np.array([[0],[1],[1],[0]])\n",
    "#initialize weights and biases\n",
    "input_layer_neurons=2\n",
    "hidden_layer_neurons=4\n",
    "output_layer_neurons=1\n",
    "np.random.seed(1)\n",
    "weights_input_hidden=np.random.uniform(-1,1,(input_layer_neurons,hidden_layer_neurons))\n",
    "weights_hidden_output=np.random.uniform(-1,1,(hidden_layer_neurons,output_layer_neurons))\n",
    "bias_hidden=np.random.uniform(-1,1,(1,hidden_layer_neurons))\n",
    "bias_output=np.random.uniform(-1,1,(1,output_layer_neurons))\n",
    "#learning rate\n",
    "theta=0.5\n",
    "#training the neural network\n",
    "epochs=10000\n",
    "for epoch in range(epochs):\n",
    "    #forward propagation\n",
    "    hidden_layer_input=np.dot(X,weights_input_hidden)+bias_hidden\n",
    "    hidden_layer_output=sigmoid(hidden_layer_input)\n",
    "    output_layer_input=np.dot(hidden_layer_output,weights_hidden_output)+bias_output\n",
    "    predicted_output=sigmoid(output_layer_input)\n",
    "    #Backpropagation\n",
    "    error=y-predicted_output\n",
    "    d_predicted_output=error*sigmoid_derivative(predicted_output)\n",
    "    error_hidden_layer=d_predicted_output.dot(weights_hidden_output.T)\n",
    "    d_hidden_layer=error_hidden_layer*sigmoid_derivative(hidden_layer_output)\n",
    "    #updating weights and biases\n",
    "    weights_hidden_output+=hidden_layer_output.T.dot(d_predicted_output)*theta\n",
    "    # Updating weights and biases for input-hidden layer\n",
    "    weights_input_hidden += X.T.dot(d_hidden_layer) * theta\n",
    "    bias_hidden += np.sum(d_hidden_layer, axis=0, keepdims=True) * theta\n",
    "    bias_output += np.sum(d_predicted_output, axis=0, keepdims=True) * theta\n",
    "    if epoch % 1000 == 0:\n",
    "        loss=np.mean(np.abs(error))\n",
    "        print(f\"Epoch {epoch},Loss:{loss}\")\n",
    "#final predictions\n",
    "print(\"final predictions:\")\n",
    "print(predicted_output)"
   ]
  },
  {
   "cell_type": "code",
   "execution_count": null,
   "id": "a01cd25f-2c35-412b-ada0-16b17c29ab4d",
   "metadata": {},
   "outputs": [],
   "source": []
  }
 ],
 "metadata": {
  "kernelspec": {
   "display_name": "Python 3 (ipykernel)",
   "language": "python",
   "name": "python3"
  },
  "language_info": {
   "codemirror_mode": {
    "name": "ipython",
    "version": 3
   },
   "file_extension": ".py",
   "mimetype": "text/x-python",
   "name": "python",
   "nbconvert_exporter": "python",
   "pygments_lexer": "ipython3",
   "version": "3.12.4"
  }
 },
 "nbformat": 4,
 "nbformat_minor": 5
}
