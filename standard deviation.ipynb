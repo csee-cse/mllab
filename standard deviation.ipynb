{
 "cells": [
  {
   "cell_type": "code",
   "execution_count": 1,
   "id": "a7599c3b-9047-470d-b729-f892ee560c00",
   "metadata": {},
   "outputs": [
    {
     "name": "stdin",
     "output_type": "stream",
     "text": [
      "Enter number of elements:  8\n",
      "Enter element 1:  10\n",
      "Enter element 2:  12\n",
      "Enter element 3:  23\n",
      "Enter element 4:  16\n",
      "Enter element 5:  21\n",
      "Enter element 6:  23\n",
      "Enter element 7:  23\n",
      "Enter element 8:  16\n"
     ]
    },
    {
     "name": "stdout",
     "output_type": "stream",
     "text": [
      "The final list is: [10, 12, 23, 16, 21, 23, 23, 16]\n"
     ]
    }
   ],
   "source": [
    "\n",
    "list = []\n",
    "\n",
    "\n",
    "n = int(input(\"Enter number of elements: \"))\n",
    "\n",
    "\n",
    "for i in range(1, n + 1):\n",
    "    element = int(input(f\"Enter element {i}: \"))\n",
    "    list.append(element)\n",
    "\n",
    "\n",
    "print(\"The final list is:\", list)\n",
    "\n",
    "      "
   ]
  },
  {
   "cell_type": "code",
   "execution_count": 9,
   "id": "12dbd01f-c905-49a7-a71c-686e2e52d18d",
   "metadata": {},
   "outputs": [],
   "source": [
    "import numpy as np"
   ]
  },
  {
   "cell_type": "code",
   "execution_count": 11,
   "id": "be05acb0-0e8b-4640-a7b9-51c2bd9da451",
   "metadata": {},
   "outputs": [
    {
     "data": {
      "text/plain": [
       "4.898979485566356"
      ]
     },
     "execution_count": 11,
     "metadata": {},
     "output_type": "execute_result"
    }
   ],
   "source": [
    "np.std(list)"
   ]
  },
  {
   "cell_type": "code",
   "execution_count": 15,
   "id": "163320ec-2c6b-467e-9c96-06f4da71ed26",
   "metadata": {},
   "outputs": [
    {
     "data": {
      "text/plain": [
       "18.0"
      ]
     },
     "execution_count": 15,
     "metadata": {},
     "output_type": "execute_result"
    }
   ],
   "source": [
    "np.mean(list)"
   ]
  },
  {
   "cell_type": "code",
   "execution_count": 17,
   "id": "99b06405-cc38-4508-a072-57cf2fa1cc44",
   "metadata": {},
   "outputs": [
    {
     "data": {
      "text/plain": [
       "18.5"
      ]
     },
     "execution_count": 17,
     "metadata": {},
     "output_type": "execute_result"
    }
   ],
   "source": [
    "np.median(list)"
   ]
  },
  {
   "cell_type": "code",
   "execution_count": 7,
   "id": "58998f9b-8911-4044-b744-7c5f8526e15b",
   "metadata": {},
   "outputs": [
    {
     "name": "stdout",
     "output_type": "stream",
     "text": [
      "Standard Deviation: 4.898979485566356\n"
     ]
    }
   ],
   "source": [
    "\n",
    "def calculate_mean(list):\n",
    "    return sum(list) / len(list)\n",
    "\n",
    "\n",
    "def calculate_std(list):\n",
    "    mean = calculate_mean(list)\n",
    "    variance = sum((x - mean) ** 2 for x in list) / len(list)\n",
    "    std_dev = variance ** 0.5\n",
    "    return std_dev\n",
    "\n",
    "\n",
    "list= [10,12,23,16,21,23,23,16]\n",
    "std_dev = calculate_std(list)\n",
    "print(f\"Standard Deviation: {std_dev}\")\n"
   ]
  },
  {
   "cell_type": "code",
   "execution_count": null,
   "id": "53605ab5-1d67-4b0b-9fa9-fc197af19bea",
   "metadata": {},
   "outputs": [],
   "source": []
  }
 ],
 "metadata": {
  "kernelspec": {
   "display_name": "Python 3 (ipykernel)",
   "language": "python",
   "name": "python3"
  },
  "language_info": {
   "codemirror_mode": {
    "name": "ipython",
    "version": 3
   },
   "file_extension": ".py",
   "mimetype": "text/x-python",
   "name": "python",
   "nbconvert_exporter": "python",
   "pygments_lexer": "ipython3",
   "version": "3.12.4"
  }
 },
 "nbformat": 4,
 "nbformat_minor": 5
}
