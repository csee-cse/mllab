{
 "cells": [
  {
   "cell_type": "code",
   "execution_count": 5,
   "id": "c62160a0-747c-41b1-a4d7-0ed24282e1b9",
   "metadata": {},
   "outputs": [],
   "source": [
    "import pandas as pd\n",
    "import numpy as np"
   ]
  },
  {
   "cell_type": "code",
   "execution_count": 7,
   "id": "b7780fa8-06f3-4818-b28c-56ccbd64a3d3",
   "metadata": {},
   "outputs": [],
   "source": [
    "df=pd.read_csv(r\"C:\\Users\\scet2\\OneDrive\\Dokumente\\houseprice.csv\")"
   ]
  },
  {
   "cell_type": "code",
   "execution_count": 9,
   "id": "342f92fd-980c-4c06-97a0-7b4cffadfb6a",
   "metadata": {},
   "outputs": [],
   "source": [
    "df=pd.DataFrame(df)"
   ]
  },
  {
   "cell_type": "code",
   "execution_count": 11,
   "id": "a793da32-e55e-4211-8e36-9cde3c06be8a",
   "metadata": {},
   "outputs": [
    {
     "data": {
      "text/html": [
       "<div>\n",
       "<style scoped>\n",
       "    .dataframe tbody tr th:only-of-type {\n",
       "        vertical-align: middle;\n",
       "    }\n",
       "\n",
       "    .dataframe tbody tr th {\n",
       "        vertical-align: top;\n",
       "    }\n",
       "\n",
       "    .dataframe thead th {\n",
       "        text-align: right;\n",
       "    }\n",
       "</style>\n",
       "<table border=\"1\" class=\"dataframe\">\n",
       "  <thead>\n",
       "    <tr style=\"text-align: right;\">\n",
       "      <th></th>\n",
       "      <th>ROOM SIZE(x1)</th>\n",
       "      <th>NUMBER OF ROOMS(X2)</th>\n",
       "      <th>DISTANCE FROM CITY(X3)</th>\n",
       "      <th>AGE OF HOUSE(X4)</th>\n",
       "      <th>PRICE</th>\n",
       "    </tr>\n",
       "  </thead>\n",
       "  <tbody>\n",
       "    <tr>\n",
       "      <th>0</th>\n",
       "      <td>2000</td>\n",
       "      <td>3</td>\n",
       "      <td>5</td>\n",
       "      <td>10</td>\n",
       "      <td>300000</td>\n",
       "    </tr>\n",
       "    <tr>\n",
       "      <th>1</th>\n",
       "      <td>3000</td>\n",
       "      <td>4</td>\n",
       "      <td>3</td>\n",
       "      <td>8</td>\n",
       "      <td>450000</td>\n",
       "    </tr>\n",
       "    <tr>\n",
       "      <th>2</th>\n",
       "      <td>3500</td>\n",
       "      <td>4</td>\n",
       "      <td>2</td>\n",
       "      <td>5</td>\n",
       "      <td>500000</td>\n",
       "    </tr>\n",
       "    <tr>\n",
       "      <th>3</th>\n",
       "      <td>1500</td>\n",
       "      <td>2</td>\n",
       "      <td>8</td>\n",
       "      <td>15</td>\n",
       "      <td>250000</td>\n",
       "    </tr>\n",
       "    <tr>\n",
       "      <th>4</th>\n",
       "      <td>2800</td>\n",
       "      <td>3</td>\n",
       "      <td>4</td>\n",
       "      <td>12</td>\n",
       "      <td>400000</td>\n",
       "    </tr>\n",
       "    <tr>\n",
       "      <th>5</th>\n",
       "      <td>4000</td>\n",
       "      <td>5</td>\n",
       "      <td>1</td>\n",
       "      <td>4</td>\n",
       "      <td>600000</td>\n",
       "    </tr>\n",
       "    <tr>\n",
       "      <th>6</th>\n",
       "      <td>2100</td>\n",
       "      <td>3</td>\n",
       "      <td>6</td>\n",
       "      <td>9</td>\n",
       "      <td>320000</td>\n",
       "    </tr>\n",
       "    <tr>\n",
       "      <th>7</th>\n",
       "      <td>1400</td>\n",
       "      <td>2</td>\n",
       "      <td>7</td>\n",
       "      <td>20</td>\n",
       "      <td>230000</td>\n",
       "    </tr>\n",
       "    <tr>\n",
       "      <th>8</th>\n",
       "      <td>3600</td>\n",
       "      <td>4</td>\n",
       "      <td>3</td>\n",
       "      <td>6</td>\n",
       "      <td>520000</td>\n",
       "    </tr>\n",
       "    <tr>\n",
       "      <th>9</th>\n",
       "      <td>2200</td>\n",
       "      <td>3</td>\n",
       "      <td>6</td>\n",
       "      <td>10</td>\n",
       "      <td>310000</td>\n",
       "    </tr>\n",
       "  </tbody>\n",
       "</table>\n",
       "</div>"
      ],
      "text/plain": [
       "   ROOM SIZE(x1)  NUMBER OF ROOMS(X2)  DISTANCE FROM CITY(X3)  \\\n",
       "0           2000                    3                       5   \n",
       "1           3000                    4                       3   \n",
       "2           3500                    4                       2   \n",
       "3           1500                    2                       8   \n",
       "4           2800                    3                       4   \n",
       "5           4000                    5                       1   \n",
       "6           2100                    3                       6   \n",
       "7           1400                    2                       7   \n",
       "8           3600                    4                       3   \n",
       "9           2200                    3                       6   \n",
       "\n",
       "   AGE OF HOUSE(X4)   PRICE  \n",
       "0                10  300000  \n",
       "1                 8  450000  \n",
       "2                 5  500000  \n",
       "3                15  250000  \n",
       "4                12  400000  \n",
       "5                 4  600000  \n",
       "6                 9  320000  \n",
       "7                20  230000  \n",
       "8                 6  520000  \n",
       "9                10  310000  "
      ]
     },
     "execution_count": 11,
     "metadata": {},
     "output_type": "execute_result"
    }
   ],
   "source": [
    "df"
   ]
  },
  {
   "cell_type": "code",
   "execution_count": 13,
   "id": "1da6e318-b7b0-4a15-9034-bf919fbf858e",
   "metadata": {},
   "outputs": [
    {
     "data": {
      "text/plain": [
       "0    2000\n",
       "1    3000\n",
       "2    3500\n",
       "3    1500\n",
       "4    2800\n",
       "5    4000\n",
       "6    2100\n",
       "7    1400\n",
       "8    3600\n",
       "9    2200\n",
       "Name: ROOM SIZE(x1), dtype: int64"
      ]
     },
     "execution_count": 13,
     "metadata": {},
     "output_type": "execute_result"
    }
   ],
   "source": [
    "x1=df['ROOM SIZE(x1)']\n",
    "x1"
   ]
  },
  {
   "cell_type": "code",
   "execution_count": 15,
   "id": "9019345c-3bb2-4890-bcb0-02ec392f5d49",
   "metadata": {},
   "outputs": [
    {
     "data": {
      "text/plain": [
       "0    3\n",
       "1    4\n",
       "2    4\n",
       "3    2\n",
       "4    3\n",
       "5    5\n",
       "6    3\n",
       "7    2\n",
       "8    4\n",
       "9    3\n",
       "Name: NUMBER OF ROOMS(X2), dtype: int64"
      ]
     },
     "execution_count": 15,
     "metadata": {},
     "output_type": "execute_result"
    }
   ],
   "source": [
    "X2=df['NUMBER OF ROOMS(X2)']\n",
    "X2"
   ]
  },
  {
   "cell_type": "code",
   "execution_count": 17,
   "id": "911d058e-ac06-488b-ab15-6e8a3bc2d3d3",
   "metadata": {},
   "outputs": [
    {
     "data": {
      "text/plain": [
       "0    5\n",
       "1    3\n",
       "2    2\n",
       "3    8\n",
       "4    4\n",
       "5    1\n",
       "6    6\n",
       "7    7\n",
       "8    3\n",
       "9    6\n",
       "Name: DISTANCE FROM CITY(X3), dtype: int64"
      ]
     },
     "execution_count": 17,
     "metadata": {},
     "output_type": "execute_result"
    }
   ],
   "source": [
    "X3=df['DISTANCE FROM CITY(X3)']\n",
    "X3"
   ]
  },
  {
   "cell_type": "code",
   "execution_count": 19,
   "id": "97fc5eb8-629c-446e-bcc7-6fab52c47b4e",
   "metadata": {},
   "outputs": [
    {
     "data": {
      "text/plain": [
       "0    10\n",
       "1     8\n",
       "2     5\n",
       "3    15\n",
       "4    12\n",
       "5     4\n",
       "6     9\n",
       "7    20\n",
       "8     6\n",
       "9    10\n",
       "Name: AGE OF HOUSE(X4), dtype: int64"
      ]
     },
     "execution_count": 19,
     "metadata": {},
     "output_type": "execute_result"
    }
   ],
   "source": [
    "X4=df['AGE OF HOUSE(X4)']\n",
    "X4"
   ]
  },
  {
   "cell_type": "code",
   "execution_count": 21,
   "id": "9f9fc8e4-3f8e-460f-9e10-db6d996ea25e",
   "metadata": {},
   "outputs": [
    {
     "data": {
      "text/plain": [
       "0    300000\n",
       "1    450000\n",
       "2    500000\n",
       "3    250000\n",
       "4    400000\n",
       "5    600000\n",
       "6    320000\n",
       "7    230000\n",
       "8    520000\n",
       "9    310000\n",
       "Name: PRICE, dtype: int64"
      ]
     },
     "execution_count": 21,
     "metadata": {},
     "output_type": "execute_result"
    }
   ],
   "source": [
    "y=df['PRICE']\n",
    "y"
   ]
  },
  {
   "cell_type": "code",
   "execution_count": 50,
   "id": "1b52c089-c0c0-452b-a73b-0767a86a2169",
   "metadata": {},
   "outputs": [
    {
     "data": {
      "text/html": [
       "<div>\n",
       "<style scoped>\n",
       "    .dataframe tbody tr th:only-of-type {\n",
       "        vertical-align: middle;\n",
       "    }\n",
       "\n",
       "    .dataframe tbody tr th {\n",
       "        vertical-align: top;\n",
       "    }\n",
       "\n",
       "    .dataframe thead th {\n",
       "        text-align: right;\n",
       "    }\n",
       "</style>\n",
       "<table border=\"1\" class=\"dataframe\">\n",
       "  <thead>\n",
       "    <tr style=\"text-align: right;\">\n",
       "      <th></th>\n",
       "      <th>ROOM SIZE(x1)</th>\n",
       "      <th>NUMBER OF ROOMS(X2)</th>\n",
       "      <th>DISTANCE FROM CITY(X3)</th>\n",
       "      <th>AGE OF HOUSE(X4)</th>\n",
       "      <th>PRICE</th>\n",
       "    </tr>\n",
       "  </thead>\n",
       "  <tbody>\n",
       "    <tr>\n",
       "      <th>ROOM SIZE(x1)</th>\n",
       "      <td>1.000000</td>\n",
       "      <td>0.952647</td>\n",
       "      <td>-0.962984</td>\n",
       "      <td>-0.868633</td>\n",
       "      <td>0.994313</td>\n",
       "    </tr>\n",
       "    <tr>\n",
       "      <th>NUMBER OF ROOMS(X2)</th>\n",
       "      <td>0.952647</td>\n",
       "      <td>1.000000</td>\n",
       "      <td>-0.953241</td>\n",
       "      <td>-0.912138</td>\n",
       "      <td>0.958830</td>\n",
       "    </tr>\n",
       "    <tr>\n",
       "      <th>DISTANCE FROM CITY(X3)</th>\n",
       "      <td>-0.962984</td>\n",
       "      <td>-0.953241</td>\n",
       "      <td>1.000000</td>\n",
       "      <td>0.833085</td>\n",
       "      <td>-0.959501</td>\n",
       "    </tr>\n",
       "    <tr>\n",
       "      <th>AGE OF HOUSE(X4)</th>\n",
       "      <td>-0.868633</td>\n",
       "      <td>-0.912138</td>\n",
       "      <td>0.833085</td>\n",
       "      <td>1.000000</td>\n",
       "      <td>-0.853829</td>\n",
       "    </tr>\n",
       "    <tr>\n",
       "      <th>PRICE</th>\n",
       "      <td>0.994313</td>\n",
       "      <td>0.958830</td>\n",
       "      <td>-0.959501</td>\n",
       "      <td>-0.853829</td>\n",
       "      <td>1.000000</td>\n",
       "    </tr>\n",
       "  </tbody>\n",
       "</table>\n",
       "</div>"
      ],
      "text/plain": [
       "                        ROOM SIZE(x1)  NUMBER OF ROOMS(X2)  \\\n",
       "ROOM SIZE(x1)                1.000000             0.952647   \n",
       "NUMBER OF ROOMS(X2)          0.952647             1.000000   \n",
       "DISTANCE FROM CITY(X3)      -0.962984            -0.953241   \n",
       "AGE OF HOUSE(X4)            -0.868633            -0.912138   \n",
       "PRICE                        0.994313             0.958830   \n",
       "\n",
       "                        DISTANCE FROM CITY(X3)  AGE OF HOUSE(X4)     PRICE  \n",
       "ROOM SIZE(x1)                        -0.962984         -0.868633  0.994313  \n",
       "NUMBER OF ROOMS(X2)                  -0.953241         -0.912138  0.958830  \n",
       "DISTANCE FROM CITY(X3)                1.000000          0.833085 -0.959501  \n",
       "AGE OF HOUSE(X4)                      0.833085          1.000000 -0.853829  \n",
       "PRICE                                -0.959501         -0.853829  1.000000  "
      ]
     },
     "execution_count": 50,
     "metadata": {},
     "output_type": "execute_result"
    }
   ],
   "source": [
    "cm=df.corr()\n",
    "cm"
   ]
  },
  {
   "cell_type": "code",
   "execution_count": 25,
   "id": "9583826b-b4f1-44c6-8095-68bd7a782175",
   "metadata": {},
   "outputs": [],
   "source": [
    "import seaborn as sns\n",
    "import matplotlib.pyplot as plt"
   ]
  },
  {
   "cell_type": "code",
   "execution_count": 26,
   "id": "e527d696-0df6-47de-9644-6454965aaf92",
   "metadata": {},
   "outputs": [
    {
     "data": {
      "text/plain": [
       "<function matplotlib.pyplot.show(close=None, block=None)>"
      ]
     },
     "execution_count": 26,
     "metadata": {},
     "output_type": "execute_result"
    },
    {
     "data": {
      "image/png": "[encoded data removed]",
      "text/plain": [
       "<Figure size 640x480 with 2 Axes>"
      ]
     },
     "metadata": {},
     "output_type": "display_data"
    }
   ],
   "source": [
    "sns.heatmap(cm, cmap='coolwarm', annot=True, fmt='.2f')\n",
    "plt.title(\"house price\")\n",
    "plt.show"
   ]
  },
  {
   "cell_type": "code",
   "execution_count": 35,
   "id": "fd08fc9d-bc39-4782-888e-2dcd2e2b606d",
   "metadata": {},
   "outputs": [
    {
     "name": "stdout",
     "output_type": "stream",
     "text": [
      "correlation between 1 and 2:postive(0.9526473092665831)\n",
      "correlation between 1 and 3:negative(-0.9629836437858922)\n",
      "correlation between 1 and 4:negative(-0.8686330749291534)\n",
      "correlation between 1 and 5:postive(0.994312934689921)\n",
      "correlation between 2 and 1:postive(0.9526473092665831)\n",
      "correlation between 2 and 3:negative(-0.9532410635070127)\n",
      "correlation between 2 and 4:negative(-0.9121380040479)\n",
      "correlation between 2 and 5:postive(0.9588299321097966)\n",
      "correlation between 3 and 1:negative(-0.9629836437858922)\n",
      "correlation between 3 and 2:negative(-0.9532410635070127)\n",
      "correlation between 3 and 4:postive(0.8330847454978976)\n",
      "correlation between 3 and 5:negative(-0.9595008469196928)\n",
      "correlation between 4 and 1:negative(-0.8686330749291534)\n",
      "correlation between 4 and 2:negative(-0.9121380040479)\n",
      "correlation between 4 and 3:postive(0.8330847454978976)\n",
      "correlation between 4 and 5:negative(-0.8538286258451241)\n",
      "correlation between 5 and 1:postive(0.994312934689921)\n",
      "correlation between 5 and 2:postive(0.9588299321097966)\n",
      "correlation between 5 and 3:negative(-0.9595008469196928)\n",
      "correlation between 5 and 4:negative(-0.8538286258451241)\n"
     ]
    }
   ],
   "source": [
    "for i in range(cm.shape[0]):\n",
    "  for j in range(cm.shape[1]):\n",
    "      if i!=j:\n",
    "          corr_value=cm.iloc[i,j]\n",
    "          if corr_value >= 0.1:\n",
    "              print(f\"correlation between {i+1} and {j+1}:postive({corr_value})\")\n",
    "          elif corr_value <= -0.1:\n",
    "              print(f\"correlation between {i+1} and {j+1}:negative({corr_value})\")\n",
    "          else:\n",
    "              print(f\"correlation between {i+1} and {j+1}:no correlation({corr_value})\")\n",
    "      "
   ]
  },
  {
   "cell_type": "code",
   "execution_count": null,
   "id": "3e5ab6b7-b090-4319-9df3-779c81ff8083",
   "metadata": {},
   "outputs": [],
   "source": []
  }
 ],
 "metadata": {
  "kernelspec": {
   "display_name": "Python 3 (ipykernel)",
   "language": "python",
   "name": "python3"
  },
  "language_info": {
   "codemirror_mode": {
    "name": "ipython",
    "version": 3
   },
   "file_extension": ".py",
   "mimetype": "text/x-python",
   "name": "python",
   "nbconvert_exporter": "python",
   "pygments_lexer": "ipython3",
   "version": "3.12.4"
  }
 },
 "nbformat": 4,
 "nbformat_minor": 5
}
