{
 "cells": [
  {
   "cell_type": "code",
   "execution_count": 5,
   "id": "56353873-6f02-4bf1-9563-0a27d892fa6a",
   "metadata": {},
   "outputs": [
    {
     "name": "stdout",
     "output_type": "stream",
     "text": [
      "Array 1: [1 2 3 4 5]\n",
      "Array 2: [ 6  7  8  9 10]\n",
      "Addition: [ 7  9 11 13 15]\n",
      "Subtraction: [-5 -5 -5 -5 -5]\n",
      "Multiplication: [ 6 14 24 36 50]\n",
      "Division: [0.16666667 0.28571429 0.375      0.44444444 0.5       ]\n",
      "Array 3:\n",
      "[[1 2 3]\n",
      " [4 5 6]]\n",
      "Mean: 3.5\n",
      "Median: 3.5\n",
      "Standard deviation: 1.707825127659933\n",
      "Reshaped_array:\n",
      "[[1 2]\n",
      " [3 4]\n",
      " [5 6]]\n",
      "Transpose_array:\n",
      "[[1 4]\n",
      " [2 5]\n",
      " [3 6]]\n"
     ]
    }
   ],
   "source": [
    "import numpy as np\n",
    "array1 = np.array([1,2,3,4,5])\n",
    "array2 = np.array([6,7,8,9,10])\n",
    "addition = array1 + array2\n",
    "subtraction = array1 - array2\n",
    "multiplication = array1 * array2\n",
    "division = array1 / array2\n",
    "print(\"Array 1:\", array1)\n",
    "print(\"Array 2:\", array2)\n",
    "print(\"Addition:\", addition)\n",
    "print(\"Subtraction:\", subtraction)\n",
    "print(\"Multiplication:\", multiplication)\n",
    "print(\"Division:\",division)\n",
    "array3 = np.array([[1,2,3], [4,5,6]])\n",
    "print(\"Array 3:\")\n",
    "print(array3)\n",
    "mean = np.mean(array3)\n",
    "print(\"Mean:\", mean)\n",
    "median = np.median(array3)\n",
    "print(\"Median:\",median)\n",
    "std_dev = np.std(array3)\n",
    "print(\"Standard deviation:\",std_dev)\n",
    "reshaped_array = array3.reshape(3,2)\n",
    "print(\"Reshaped_array:\")\n",
    "print(reshaped_array)\n",
    "transpose_array = np.transpose(array3)\n",
    "print(\"Transpose_array:\")\n",
    "print(transpose_array)\n"
   ]
  },
  {
   "cell_type": "code",
   "execution_count": null,
   "id": "45e8626b-f605-4dd1-9e9c-9e27e227bbd4",
   "metadata": {},
   "outputs": [],
   "source": []
  }
 ],
 "metadata": {
  "kernelspec": {
   "display_name": "Python 3 (ipykernel)",
   "language": "python",
   "name": "python3"
  },
  "language_info": {
   "codemirror_mode": {
    "name": "ipython",
    "version": 3
   },
   "file_extension": ".py",
   "mimetype": "text/x-python",
   "name": "python",
   "nbconvert_exporter": "python",
   "pygments_lexer": "ipython3",
   "version": "3.12.4"
  }
 },
 "nbformat": 4,
 "nbformat_minor": 5
}
