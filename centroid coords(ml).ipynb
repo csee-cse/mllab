{
 "cells": [
  {
   "cell_type": "code",
   "execution_count": 48,
   "id": "edc3d3d9-fb5a-4256-bbd3-a94f005798d5",
   "metadata": {},
   "outputs": [],
   "source": [
    "import numpy as np\n",
    "import pandas as pd"
   ]
  },
  {
   "cell_type": "code",
   "execution_count": 50,
   "id": "4ab96713-3ca1-4e64-bc18-48a255388470",
   "metadata": {},
   "outputs": [
    {
     "data": {
      "text/html": [
       "<div>\n",
       "<style scoped>\n",
       "    .dataframe tbody tr th:only-of-type {\n",
       "        vertical-align: middle;\n",
       "    }\n",
       "\n",
       "    .dataframe tbody tr th {\n",
       "        vertical-align: top;\n",
       "    }\n",
       "\n",
       "    .dataframe thead th {\n",
       "        text-align: right;\n",
       "    }\n",
       "</style>\n",
       "<table border=\"1\" class=\"dataframe\">\n",
       "  <thead>\n",
       "    <tr style=\"text-align: right;\">\n",
       "      <th></th>\n",
       "      <th>sample no</th>\n",
       "      <th>x</th>\n",
       "      <th>y</th>\n",
       "    </tr>\n",
       "  </thead>\n",
       "  <tbody>\n",
       "    <tr>\n",
       "      <th>0</th>\n",
       "      <td>1</td>\n",
       "      <td>185</td>\n",
       "      <td>79</td>\n",
       "    </tr>\n",
       "    <tr>\n",
       "      <th>1</th>\n",
       "      <td>2</td>\n",
       "      <td>170</td>\n",
       "      <td>56</td>\n",
       "    </tr>\n",
       "    <tr>\n",
       "      <th>2</th>\n",
       "      <td>3</td>\n",
       "      <td>168</td>\n",
       "      <td>60</td>\n",
       "    </tr>\n",
       "    <tr>\n",
       "      <th>3</th>\n",
       "      <td>4</td>\n",
       "      <td>179</td>\n",
       "      <td>68</td>\n",
       "    </tr>\n",
       "    <tr>\n",
       "      <th>4</th>\n",
       "      <td>5</td>\n",
       "      <td>182</td>\n",
       "      <td>72</td>\n",
       "    </tr>\n",
       "  </tbody>\n",
       "</table>\n",
       "</div>"
      ],
      "text/plain": [
       "   sample no    x   y\n",
       "0          1  185  79\n",
       "1          2  170  56\n",
       "2          3  168  60\n",
       "3          4  179  68\n",
       "4          5  182  72"
      ]
     },
     "execution_count": 50,
     "metadata": {},
     "output_type": "execute_result"
    }
   ],
   "source": [
    "customer =pd.read_csv(r\"C:\\Users\\scet2\\OneDrive\\Dokumente\\kmeans.csv\")\n",
    "customer.head()"
   ]
  },
  {
   "cell_type": "code",
   "execution_count": 52,
   "id": "832eb0e0-b53d-4fd8-ba2c-c36c3791f51b",
   "metadata": {},
   "outputs": [],
   "source": [
    "def get_centroids(df,k):\n",
    "    np.random.seed(1)\n",
    "    centroids=df.sample(k).reset_index(drop=True)\n",
    "    return centroids , centroids.values.tolist()"
   ]
  },
  {
   "cell_type": "code",
   "execution_count": 54,
   "id": "8cb8fc55-3732-42cb-a645-64c4bf7bb78e",
   "metadata": {},
   "outputs": [
    {
     "name": "stdout",
     "output_type": "stream",
     "text": [
      "     x   y\n",
      "0  168  60\n",
      "1  170  56\n",
      "[[168, 60], [170, 56]]\n"
     ]
    }
   ],
   "source": [
    "centroids,coords=get_centroids(customer[['x','y']],k=2)\n",
    "print(centroids)\n",
    "print(coords)"
   ]
  },
  {
   "cell_type": "code",
   "execution_count": 56,
   "id": "9975712f-7e35-448c-811e-d47d3306e3ec",
   "metadata": {},
   "outputs": [
    {
     "name": "stdout",
     "output_type": "stream",
     "text": [
      "     x   y  dist_centroid_1  dist_centroid_2\n",
      "0  185  79        25.495098        27.459060\n",
      "1  170  56         4.472136         0.000000\n",
      "2  168  60         0.000000         4.472136\n",
      "3  179  68        13.601471        15.000000\n",
      "4  182  72        18.439089        20.000000\n",
      "5  188  77        26.248809        27.658633\n",
      "['dist_centroid_1', 'dist_centroid_2']\n"
     ]
    }
   ],
   "source": [
    "def calculate_distance(df,centroids_coords):\n",
    "    names=[]\n",
    "    for i,centroid in enumerate(centroids_coords):\n",
    "        name=f'dist_centroid_{i+1}'\n",
    "        df.loc[:,name]=np.sqrt((df.iloc[:,0] - centroid[0])**2 + (df.iloc[:,1] - centroid[1])**2)\n",
    "        names.append(name)\n",
    "    return df , names\n",
    "df,dist_columns=calculate_distance(customer[['x','y']],coords)\n",
    "print(df)\n",
    "print(dist_columns)                                               "
   ]
  },
  {
   "cell_type": "code",
   "execution_count": 58,
   "id": "89600ef3-ff80-449d-9dd6-e6220c286fd1",
   "metadata": {},
   "outputs": [],
   "source": [
    "def kmeans(df,k):\n",
    "    variables = df.columns\n",
    "    centroids,coords=get_centroids(df,k)"
   ]
  },
  {
   "cell_type": "code",
   "execution_count": 60,
   "id": "88697a29-a3ab-479c-a23f-1ed3a4211077",
   "metadata": {},
   "outputs": [],
   "source": [
    "def kmeans(df,k):\n",
    "    variables=df.columns\n",
    "    centroids,coords=get_centroids(df,k)\n",
    "    while True:\n",
    "        last_coords=coords.copy()\n",
    "        df,dist_columns=calculate_distance(df,coords)\n",
    "        df['cluster']=df[dist_columns].idxmin(axis=1).str.split('_').str[-1]\n",
    "        print(df)\n",
    "        break"
   ]
  },
  {
   "cell_type": "code",
   "execution_count": 62,
   "id": "4f2c06da-955d-40eb-901a-d332490c7d0f",
   "metadata": {},
   "outputs": [
    {
     "name": "stdout",
     "output_type": "stream",
     "text": [
      "     x   y  dist_centroid_1  dist_centroid_2 cluster\n",
      "0  185  79        25.495098        27.459060       1\n",
      "1  170  56         4.472136         0.000000       2\n",
      "2  168  60         0.000000         4.472136       1\n",
      "3  179  68        13.601471        15.000000       1\n",
      "4  182  72        18.439089        20.000000       1\n",
      "5  188  77        26.248809        27.658633       1\n"
     ]
    }
   ],
   "source": [
    "kmeans(customer[['x','y']],k=2)\n"
   ]
  },
  {
   "cell_type": "code",
   "execution_count": 64,
   "id": "4846a114-517f-4b6e-b3a0-71cf2278529e",
   "metadata": {},
   "outputs": [],
   "source": [
    "def kmeans(df,k,max_iteration=50):\n",
    "    variables=df.columns\n",
    "    centroids,coords=get_centroids(df,k)\n",
    "    counter=0\n",
    "    while True:\n",
    "        last_coords=coords.copy()\n",
    "        df,dist_columns=calculate_distance(df,coords)\n",
    "        df['cluster']=df[dist_columns].idxmin(axis=1).str.split('_').str[-1]\n",
    "        centroids=round(df.groupby('cluster')[variables].mean(),2)\n",
    "        coords=centroids.values.tolist()\n",
    "        if last_coords==coords or counter + 1 ==max_iteration:\n",
    "            print(f'Number of iterations:{counter + 1}')\n",
    "            return df['cluster'],centroids\n",
    "        else:\n",
    "            counter += 1"
   ]
  },
  {
   "cell_type": "code",
   "execution_count": 72,
   "id": "f3a753ca-95f3-4b6c-9156-15b861547adb",
   "metadata": {},
   "outputs": [
    {
     "name": "stdout",
     "output_type": "stream",
     "text": [
      "Number of iterations:3\n",
      "   sample no    x   y cluster\n",
      "0          1  185  79       1\n",
      "1          2  170  56       2\n",
      "2          3  168  60       2\n",
      "3          4  179  68       1\n",
      "4          5  182  72       1\n",
      "5          6  188  77       1\n"
     ]
    }
   ],
   "source": [
    "cluster,centroids=kmeans(customer[['x','y']],k=2)\n",
    "customer['cluster']=cluster\n",
    "print(customer)"
   ]
  },
  {
   "cell_type": "code",
   "execution_count": 74,
   "id": "ef4e34cb-46b1-4e07-a8bd-5740d30a43f5",
   "metadata": {},
   "outputs": [],
   "source": [
    "import matplotlib.pyplot as plt\n",
    "import seaborn as sns"
   ]
  },
  {
   "cell_type": "code",
   "execution_count": 76,
   "id": "04e236c6-e336-4041-9018-1998db4a1c57",
   "metadata": {},
   "outputs": [
    {
     "data": {
      "image/png": "[encoded data removed]",
      "text/plain": [
       "<Figure size 1000x500 with 1 Axes>"
      ]
     },
     "metadata": {},
     "output_type": "display_data"
    }
   ],
   "source": [
    "sns.set_style('whitegrid')\n",
    "fig ,ax=plt.subplots(figsize=(10,5))\n",
    "sns.scatterplot(x='x',y='y',hue='cluster',palette='tab10',data=customer,s=50,ax=ax)\n",
    "sns.scatterplot(x='x',y='y',hue='cluster',color='black',data=centroids,s=100,ax=ax)\n",
    "plt.tight_layout()\n",
    "plt.show()"
   ]
  },
  {
   "cell_type": "code",
   "execution_count": null,
   "id": "32e66167-ddf6-46e4-8d8d-1e8284a83a44",
   "metadata": {},
   "outputs": [],
   "source": []
  }
 ],
 "metadata": {
  "kernelspec": {
   "display_name": "Python 3 (ipykernel)",
   "language": "python",
   "name": "python3"
  },
  "language_info": {
   "codemirror_mode": {
    "name": "ipython",
    "version": 3
   },
   "file_extension": ".py",
   "mimetype": "text/x-python",
   "name": "python",
   "nbconvert_exporter": "python",
   "pygments_lexer": "ipython3",
   "version": "3.12.4"
  }
 },
 "nbformat": 4,
 "nbformat_minor": 5
}
