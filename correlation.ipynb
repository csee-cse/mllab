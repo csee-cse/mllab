{
 "cells": [
  {
   "cell_type": "code",
   "execution_count": 3,
   "id": "17cdfbaa-c829-467b-aeda-8c7c1720a390",
   "metadata": {},
   "outputs": [],
   "source": [
    "import numpy as np\n",
    "x=[80,83,100]\n",
    "y=[70,20,50]\n",
    "correlation=np.correlate(x,y)\n"
   ]
  },
  {
   "cell_type": "code",
   "execution_count": 5,
   "id": "adf6163a-ca46-444c-921c-9c6c2ccf671d",
   "metadata": {},
   "outputs": [
    {
     "data": {
      "text/plain": [
       "array([11860])"
      ]
     },
     "execution_count": 5,
     "metadata": {},
     "output_type": "execute_result"
    }
   ],
   "source": [
    "correlation"
   ]
  },
  {
   "cell_type": "code",
   "execution_count": 11,
   "id": "8a1a2b3c-c93d-45ee-99f8-23a50254ed67",
   "metadata": {},
   "outputs": [],
   "source": [
    "X=np.asarray(x)\n",
    "Y=np.asarray(y)\n",
    "covariance=np.cov(X,Y)"
   ]
  },
  {
   "cell_type": "code",
   "execution_count": 13,
   "id": "94178296-5d49-430b-bdd4-37496673029a",
   "metadata": {},
   "outputs": [
    {
     "data": {
      "text/plain": [
       "array([[343.        , 260.        ],\n",
       "       [260.        , 633.33333333]])"
      ]
     },
     "execution_count": 13,
     "metadata": {},
     "output_type": "execute_result"
    }
   ],
   "source": [
    "covariance"
   ]
  },
  {
   "cell_type": "code",
   "execution_count": 15,
   "id": "18abe6ba-2db3-42e4-8b68-f24211b72374",
   "metadata": {},
   "outputs": [
    {
     "name": "stdout",
     "output_type": "stream",
     "text": [
      "[ 80  63 100]\n"
     ]
    }
   ],
   "source": [
    "print(X)"
   ]
  },
  {
   "cell_type": "code",
   "execution_count": 17,
   "id": "1308911f-f827-4c71-9339-0959a891b977",
   "metadata": {},
   "outputs": [
    {
     "name": "stdout",
     "output_type": "stream",
     "text": [
      "[70 20 50]\n"
     ]
    }
   ],
   "source": [
    "print(Y)"
   ]
  },
  {
   "cell_type": "code",
   "execution_count": 19,
   "id": "0ac4dea8-c712-40b2-89e0-fe2bd1ab41e8",
   "metadata": {},
   "outputs": [
    {
     "name": "stdout",
     "output_type": "stream",
     "text": [
      "[ 80  63 100] [70 20 50]\n"
     ]
    }
   ],
   "source": [
    "print(X,Y)"
   ]
  },
  {
   "cell_type": "code",
   "execution_count": null,
   "id": "ea7ad831-8d21-46b5-9606-39d03e109fbe",
   "metadata": {},
   "outputs": [],
   "source": []
  }
 ],
 "metadata": {
  "kernelspec": {
   "display_name": "Python 3 (ipykernel)",
   "language": "python",
   "name": "python3"
  },
  "language_info": {
   "codemirror_mode": {
    "name": "ipython",
    "version": 3
   },
   "file_extension": ".py",
   "mimetype": "text/x-python",
   "name": "python",
   "nbconvert_exporter": "python",
   "pygments_lexer": "ipython3",
   "version": "3.12.4"
  }
 },
 "nbformat": 4,
 "nbformat_minor": 5
}
